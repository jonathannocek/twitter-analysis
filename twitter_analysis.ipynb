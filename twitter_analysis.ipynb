{
  "nbformat": 4,
  "nbformat_minor": 0,
  "metadata": {
    "colab": {
      "name": "twitter-analysis.ipynb",
      "provenance": [],
      "collapsed_sections": [],
      "mount_file_id": "1gvkGCOEF-1PFK5aKhJwmF9eKnzZitaRJ",
      "authorship_tag": "ABX9TyPD9m5ncs5hiGa2bCUiZDK6",
      "include_colab_link": true
    },
    "kernelspec": {
      "name": "python3",
      "display_name": "Python 3"
    }
  },
  "cells": [
    {
      "cell_type": "markdown",
      "metadata": {
        "id": "view-in-github",
        "colab_type": "text"
      },
      "source": [
        "<a href=\"https://colab.research.google.com/github/jonathannocek/twitter-analysis/blob/master/twitter_analysis.ipynb\" target=\"_parent\"><img src=\"https://colab.research.google.com/assets/colab-badge.svg\" alt=\"Open In Colab\"/></a>"
      ]
    },
    {
      "cell_type": "code",
      "metadata": {
        "id": "qNj_IJIhpdgf",
        "colab_type": "code",
        "outputId": "93cbcbea-00a5-4cc8-de3d-6eccade3223f",
        "colab": {
          "base_uri": "https://localhost:8080/",
          "height": 34
        }
      },
      "source": [
        "import json\n",
        "import pandas as pd\n",
        "import numpy\n",
        "import seaborn as sns\n",
        "import matplotlib.pyplot as plt\n",
        "\n",
        "from google.colab import drive\n",
        "drive.mount('/content/drive')\n",
        "\n",
        "my_list = []\n",
        "with open('drive/My Drive/data.json') as json_file:\n",
        "    data = json.load(json_file)\n",
        "    for column in all_data:\n",
        "        text = column['text']\n",
        "        username = column['username']\n",
        "        datetime = column['datetime']\n",
        "        my_list.append({'text': str(text),\n",
        "                             'username': str(username),\n",
        "                             'datetime': str(datetime),\n",
        "                            })\n",
        "        df = pd.DataFrame(my_list, columns = \n",
        "                                  ['text','username', 'datetime'])"
      ],
      "execution_count": 46,
      "outputs": [
        {
          "output_type": "stream",
          "text": [
            "Drive already mounted at /content/drive; to attempt to forcibly remount, call drive.mount(\"/content/drive\", force_remount=True).\n"
          ],
          "name": "stdout"
        }
      ]
    },
    {
      "cell_type": "code",
      "metadata": {
        "id": "Ntdl40kD4Jlm",
        "colab_type": "code",
        "outputId": "9bfbc3dc-49ef-4f96-9748-6c1e5063f3c5",
        "colab": {
          "base_uri": "https://localhost:8080/",
          "height": 359
        }
      },
      "source": [
        "df.head(10)"
      ],
      "execution_count": 47,
      "outputs": [
        {
          "output_type": "execute_result",
          "data": {
            "text/html": [
              "<div>\n",
              "<style scoped>\n",
              "    .dataframe tbody tr th:only-of-type {\n",
              "        vertical-align: middle;\n",
              "    }\n",
              "\n",
              "    .dataframe tbody tr th {\n",
              "        vertical-align: top;\n",
              "    }\n",
              "\n",
              "    .dataframe thead th {\n",
              "        text-align: right;\n",
              "    }\n",
              "</style>\n",
              "<table border=\"1\" class=\"dataframe\">\n",
              "  <thead>\n",
              "    <tr style=\"text-align: right;\">\n",
              "      <th></th>\n",
              "      <th>text</th>\n",
              "      <th>username</th>\n",
              "      <th>datetime</th>\n",
              "    </tr>\n",
              "  </thead>\n",
              "  <tbody>\n",
              "    <tr>\n",
              "      <th>0</th>\n",
              "      <td>Gotta love Elon! He doesn’t just dream it, he ...</td>\n",
              "      <td>Charlie03370883</td>\n",
              "      <td>2020-02-24T14:34:42</td>\n",
              "    </tr>\n",
              "    <tr>\n",
              "      <th>1</th>\n",
              "      <td>Will Elon Musk make it happen?\\nhttps://t.co/5...</td>\n",
              "      <td>NarcityUSA</td>\n",
              "      <td>2020-02-24T14:34:31</td>\n",
              "    </tr>\n",
              "    <tr>\n",
              "      <th>2</th>\n",
              "      <td>Inside Elon Musk’s Ad Astra School Where Grade...</td>\n",
              "      <td>MEG_F7</td>\n",
              "      <td>2020-02-24T14:33:27</td>\n",
              "    </tr>\n",
              "    <tr>\n",
              "      <th>3</th>\n",
              "      <td>What's the problem with Elon Musk's Starlink P...</td>\n",
              "      <td>TekNewsDaily</td>\n",
              "      <td>2020-02-24T14:33:20</td>\n",
              "    </tr>\n",
              "    <tr>\n",
              "      <th>4</th>\n",
              "      <td>Elon Musk  Neuralink  AI  Autopilot  and the P...</td>\n",
              "      <td>Hultek_</td>\n",
              "      <td>2020-02-24T14:32:31</td>\n",
              "    </tr>\n",
              "    <tr>\n",
              "      <th>5</th>\n",
              "      <td>When something is important enough, you do it ...</td>\n",
              "      <td>gisipen</td>\n",
              "      <td>2020-02-24T14:31:22</td>\n",
              "    </tr>\n",
              "    <tr>\n",
              "      <th>6</th>\n",
              "      <td>Teslarati: Elon Musk's Boring Company quietly ...</td>\n",
              "      <td>melodylamour</td>\n",
              "      <td>2020-02-24T14:30:36</td>\n",
              "    </tr>\n",
              "    <tr>\n",
              "      <th>7</th>\n",
              "      <td>#Elon #Musk joins calls to #regulate companies...</td>\n",
              "      <td>JFortin670</td>\n",
              "      <td>2020-02-24T14:30:02</td>\n",
              "    </tr>\n",
              "    <tr>\n",
              "      <th>8</th>\n",
              "      <td>My all time favorite Elon Musk quote.....😂😂🤣 @...</td>\n",
              "      <td>TeslaForThe_Win</td>\n",
              "      <td>2020-02-24T14:29:55</td>\n",
              "    </tr>\n",
              "    <tr>\n",
              "      <th>9</th>\n",
              "      <td>In my dream i was talking with elon musk about...</td>\n",
              "      <td>Miku_Chiii</td>\n",
              "      <td>2020-02-24T14:29:43</td>\n",
              "    </tr>\n",
              "  </tbody>\n",
              "</table>\n",
              "</div>"
            ],
            "text/plain": [
              "                                                text  ...             datetime\n",
              "0  Gotta love Elon! He doesn’t just dream it, he ...  ...  2020-02-24T14:34:42\n",
              "1  Will Elon Musk make it happen?\\nhttps://t.co/5...  ...  2020-02-24T14:34:31\n",
              "2  Inside Elon Musk’s Ad Astra School Where Grade...  ...  2020-02-24T14:33:27\n",
              "3  What's the problem with Elon Musk's Starlink P...  ...  2020-02-24T14:33:20\n",
              "4  Elon Musk  Neuralink  AI  Autopilot  and the P...  ...  2020-02-24T14:32:31\n",
              "5  When something is important enough, you do it ...  ...  2020-02-24T14:31:22\n",
              "6  Teslarati: Elon Musk's Boring Company quietly ...  ...  2020-02-24T14:30:36\n",
              "7  #Elon #Musk joins calls to #regulate companies...  ...  2020-02-24T14:30:02\n",
              "8  My all time favorite Elon Musk quote.....😂😂🤣 @...  ...  2020-02-24T14:29:55\n",
              "9  In my dream i was talking with elon musk about...  ...  2020-02-24T14:29:43\n",
              "\n",
              "[10 rows x 3 columns]"
            ]
          },
          "metadata": {
            "tags": []
          },
          "execution_count": 47
        }
      ]
    },
    {
      "cell_type": "code",
      "metadata": {
        "id": "hTBBRkd2Jhs5",
        "colab_type": "code",
        "colab": {
          "base_uri": "https://localhost:8080/",
          "height": 419
        },
        "outputId": "af7734d2-2dea-4ff3-a01a-3372ef44bc93"
      },
      "source": [
        "df"
      ],
      "execution_count": 45,
      "outputs": [
        {
          "output_type": "execute_result",
          "data": {
            "text/html": [
              "<div>\n",
              "<style scoped>\n",
              "    .dataframe tbody tr th:only-of-type {\n",
              "        vertical-align: middle;\n",
              "    }\n",
              "\n",
              "    .dataframe tbody tr th {\n",
              "        vertical-align: top;\n",
              "    }\n",
              "\n",
              "    .dataframe thead th {\n",
              "        text-align: right;\n",
              "    }\n",
              "</style>\n",
              "<table border=\"1\" class=\"dataframe\">\n",
              "  <thead>\n",
              "    <tr style=\"text-align: right;\">\n",
              "      <th></th>\n",
              "      <th>text</th>\n",
              "      <th>username</th>\n",
              "      <th>datetime</th>\n",
              "    </tr>\n",
              "  </thead>\n",
              "  <tbody>\n",
              "    <tr>\n",
              "      <th>0</th>\n",
              "      <td>Gotta love Elon! He doesn’t just dream it, he ...</td>\n",
              "      <td>Charlie03370883</td>\n",
              "      <td>2020-02-24T14:34:42</td>\n",
              "    </tr>\n",
              "    <tr>\n",
              "      <th>1</th>\n",
              "      <td>Will Elon Musk make it happen?\\nhttps://t.co/5...</td>\n",
              "      <td>NarcityUSA</td>\n",
              "      <td>2020-02-24T14:34:31</td>\n",
              "    </tr>\n",
              "    <tr>\n",
              "      <th>2</th>\n",
              "      <td>Inside Elon Musk’s Ad Astra School Where Grade...</td>\n",
              "      <td>MEG_F7</td>\n",
              "      <td>2020-02-24T14:33:27</td>\n",
              "    </tr>\n",
              "    <tr>\n",
              "      <th>3</th>\n",
              "      <td>What's the problem with Elon Musk's Starlink P...</td>\n",
              "      <td>TekNewsDaily</td>\n",
              "      <td>2020-02-24T14:33:20</td>\n",
              "    </tr>\n",
              "    <tr>\n",
              "      <th>4</th>\n",
              "      <td>Elon Musk  Neuralink  AI  Autopilot  and the P...</td>\n",
              "      <td>Hultek_</td>\n",
              "      <td>2020-02-24T14:32:31</td>\n",
              "    </tr>\n",
              "    <tr>\n",
              "      <th>...</th>\n",
              "      <td>...</td>\n",
              "      <td>...</td>\n",
              "      <td>...</td>\n",
              "    </tr>\n",
              "    <tr>\n",
              "      <th>1966</th>\n",
              "      <td>NASA: Elon Musk's SpaceX program will land on ...</td>\n",
              "      <td>nextleveltechn</td>\n",
              "      <td>2020-02-22T13:42:24</td>\n",
              "    </tr>\n",
              "    <tr>\n",
              "      <th>1967</th>\n",
              "      <td>SpaceX is looking to raise about $250 million,...</td>\n",
              "      <td>Koningsbruggen</td>\n",
              "      <td>2020-02-22T13:41:08</td>\n",
              "    </tr>\n",
              "    <tr>\n",
              "      <th>1968</th>\n",
              "      <td>Another conspiracy: the determined Artificial ...</td>\n",
              "      <td>boop_boop_boop_</td>\n",
              "      <td>2020-02-22T13:40:31</td>\n",
              "    </tr>\n",
              "    <tr>\n",
              "      <th>1969</th>\n",
              "      <td>Some of their first jobs:\\n\\nJeff Bezos: McDon...</td>\n",
              "      <td>WongYK8</td>\n",
              "      <td>2020-02-22T13:38:41</td>\n",
              "    </tr>\n",
              "    <tr>\n",
              "      <th>1970</th>\n",
              "      <td>Does Elon Musk think she's a child? https://t....</td>\n",
              "      <td>hashashash</td>\n",
              "      <td>2020-02-22T13:38:03</td>\n",
              "    </tr>\n",
              "  </tbody>\n",
              "</table>\n",
              "<p>1971 rows × 3 columns</p>\n",
              "</div>"
            ],
            "text/plain": [
              "                                                   text  ...             datetime\n",
              "0     Gotta love Elon! He doesn’t just dream it, he ...  ...  2020-02-24T14:34:42\n",
              "1     Will Elon Musk make it happen?\\nhttps://t.co/5...  ...  2020-02-24T14:34:31\n",
              "2     Inside Elon Musk’s Ad Astra School Where Grade...  ...  2020-02-24T14:33:27\n",
              "3     What's the problem with Elon Musk's Starlink P...  ...  2020-02-24T14:33:20\n",
              "4     Elon Musk  Neuralink  AI  Autopilot  and the P...  ...  2020-02-24T14:32:31\n",
              "...                                                 ...  ...                  ...\n",
              "1966  NASA: Elon Musk's SpaceX program will land on ...  ...  2020-02-22T13:42:24\n",
              "1967  SpaceX is looking to raise about $250 million,...  ...  2020-02-22T13:41:08\n",
              "1968  Another conspiracy: the determined Artificial ...  ...  2020-02-22T13:40:31\n",
              "1969  Some of their first jobs:\\n\\nJeff Bezos: McDon...  ...  2020-02-22T13:38:41\n",
              "1970  Does Elon Musk think she's a child? https://t....  ...  2020-02-22T13:38:03\n",
              "\n",
              "[1971 rows x 3 columns]"
            ]
          },
          "metadata": {
            "tags": []
          },
          "execution_count": 45
        }
      ]
    },
    {
      "cell_type": "code",
      "metadata": {
        "id": "qtjdqXKB6KI_",
        "colab_type": "code",
        "outputId": "0dd5188c-4584-4c6d-d924-963f41c5519f",
        "colab": {
          "base_uri": "https://localhost:8080/",
          "height": 153
        }
      },
      "source": [
        "df.info()"
      ],
      "execution_count": 42,
      "outputs": [
        {
          "output_type": "stream",
          "text": [
            "<class 'pandas.core.frame.DataFrame'>\n",
            "RangeIndex: 1971 entries, 0 to 1970\n",
            "Data columns (total 3 columns):\n",
            "text        1971 non-null object\n",
            "username    1971 non-null object\n",
            "datetime    1971 non-null object\n",
            "dtypes: object(3)\n",
            "memory usage: 46.3+ KB\n"
          ],
          "name": "stdout"
        }
      ]
    },
    {
      "cell_type": "code",
      "metadata": {
        "id": "DVgWvaAM6M9b",
        "colab_type": "code",
        "outputId": "221d316f-5ea4-48a7-f13d-219c7afab32d",
        "colab": {
          "base_uri": "https://localhost:8080/",
          "height": 173
        }
      },
      "source": [
        "df.describe()"
      ],
      "execution_count": 43,
      "outputs": [
        {
          "output_type": "execute_result",
          "data": {
            "text/html": [
              "<div>\n",
              "<style scoped>\n",
              "    .dataframe tbody tr th:only-of-type {\n",
              "        vertical-align: middle;\n",
              "    }\n",
              "\n",
              "    .dataframe tbody tr th {\n",
              "        vertical-align: top;\n",
              "    }\n",
              "\n",
              "    .dataframe thead th {\n",
              "        text-align: right;\n",
              "    }\n",
              "</style>\n",
              "<table border=\"1\" class=\"dataframe\">\n",
              "  <thead>\n",
              "    <tr style=\"text-align: right;\">\n",
              "      <th></th>\n",
              "      <th>text</th>\n",
              "      <th>username</th>\n",
              "      <th>datetime</th>\n",
              "    </tr>\n",
              "  </thead>\n",
              "  <tbody>\n",
              "    <tr>\n",
              "      <th>count</th>\n",
              "      <td>1971</td>\n",
              "      <td>1971</td>\n",
              "      <td>1971</td>\n",
              "    </tr>\n",
              "    <tr>\n",
              "      <th>unique</th>\n",
              "      <td>1952</td>\n",
              "      <td>1645</td>\n",
              "      <td>1946</td>\n",
              "    </tr>\n",
              "    <tr>\n",
              "      <th>top</th>\n",
              "      <td>Elon Musk is my god</td>\n",
              "      <td>ElonAnnounces</td>\n",
              "      <td>2020-02-22T21:19:12</td>\n",
              "    </tr>\n",
              "    <tr>\n",
              "      <th>freq</th>\n",
              "      <td>8</td>\n",
              "      <td>47</td>\n",
              "      <td>2</td>\n",
              "    </tr>\n",
              "  </tbody>\n",
              "</table>\n",
              "</div>"
            ],
            "text/plain": [
              "                       text       username             datetime\n",
              "count                  1971           1971                 1971\n",
              "unique                 1952           1645                 1946\n",
              "top     Elon Musk is my god  ElonAnnounces  2020-02-22T21:19:12\n",
              "freq                      8             47                    2"
            ]
          },
          "metadata": {
            "tags": []
          },
          "execution_count": 43
        }
      ]
    }
  ]
}