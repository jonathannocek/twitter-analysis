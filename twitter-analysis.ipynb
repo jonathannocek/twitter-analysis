{
  "nbformat": 4,
  "nbformat_minor": 0,
  "metadata": {
    "colab": {
      "name": "twitter-analysis.ipynb",
      "provenance": [],
      "collapsed_sections": [],
      "machine_shape": "hm",
      "mount_file_id": "1gvkGCOEF-1PFK5aKhJwmF9eKnzZitaRJ",
      "authorship_tag": "ABX9TyNMH2laxZ3soCvPSTpnbAuY",
      "include_colab_link": true
    },
    "kernelspec": {
      "name": "python3",
      "display_name": "Python 3"
    }
  },
  "cells": [
    {
      "cell_type": "markdown",
      "metadata": {
        "id": "view-in-github",
        "colab_type": "text"
      },
      "source": [
        "<a href=\"https://colab.research.google.com/github/jonathannocek/twitter-analysis/blob/master/twitter-analysis.ipynb\" target=\"_parent\"><img src=\"https://colab.research.google.com/assets/colab-badge.svg\" alt=\"Open In Colab\"/></a>"
      ]
    },
    {
      "cell_type": "markdown",
      "metadata": {
        "id": "55P8rzfhf5Qu",
        "colab_type": "text"
      },
      "source": [
        "# **Twitter Analysis**\n",
        "\n",
        "Author: Jonathan Nocek\n",
        "\n",
        "## **Overview**\n",
        "\n",
        "This notebook will analyze data collected from the my Twitter Search function which can be found [here](https://github.com/jonathannocek/twitter-analysis/blob/master/twitter-search.py). This function is apart of a greater project created for my senior seminar at Illinois Wesleyan University. \n",
        "\n",
        "## **Dataframe**\n",
        "\n",
        "The dataframe contains 4593 tweets containing 'Elon Musk' ranging from 2/22/2020 to 2/27/2020\n",
        "\n",
        "## **Columns**\n",
        "\n",
        "**text** - the tweet itself\n",
        "\n",
        "**username** - the username for who tweeted text\n",
        "\n",
        "**datetime** - The date and time when the tweet was tweeted\n",
        "\n",
        "**followers** - The number of followers for the user who tweeted\n",
        "\n",
        "**sentiment** - Determines whether a tweet is positive of negative using Natural Language Processing. The specific method is Naive Bayes from TextBlob and it was trained using an example text file. \n",
        "\n",
        "**favorites** - The number of favorites on the tweet\n",
        "\n",
        "**retweets** - The number of retweets on the tweet\n"
      ]
    },
    {
      "cell_type": "markdown",
      "metadata": {
        "id": "XtcTl7V6gtFD",
        "colab_type": "text"
      },
      "source": [
        "## **Imports**"
      ]
    },
    {
      "cell_type": "code",
      "metadata": {
        "id": "qNj_IJIhpdgf",
        "colab_type": "code",
        "outputId": "733b5435-fad7-457c-d8ca-85f6ab5139c8",
        "colab": {
          "base_uri": "https://localhost:8080/",
          "height": 122
        }
      },
      "source": [
        "import json\n",
        "import pandas as pd\n",
        "import numpy\n",
        "import seaborn as sns\n",
        "import matplotlib.pyplot as plt\n",
        "\n",
        "# Mount google drive\n",
        "from google.colab import drive\n",
        "drive.mount('/content/drive')\n",
        "\n",
        "# Initialize list and open twitter data from Drive\n",
        "my_list = []\n",
        "with open('drive/My Drive/twitter_data.json') as json_file:\n",
        "    data = json.load(json_file)\n",
        "    # Get the data from each column\n",
        "    for column in data:\n",
        "        text = column['text']\n",
        "        username = column['username']\n",
        "        datetime = column['datetime']\n",
        "        followers = column['followers']\n",
        "        sentiment = column['sentiment']\n",
        "        favorites = column['favorites']\n",
        "        retweets = column['retweets']\n",
        "\n",
        "        # Append the data to the list\n",
        "        my_list.append({'text': str(text),\n",
        "                        'username': str(username),\n",
        "                        'datetime': str(datetime),\n",
        "                        'followers': int(followers),\n",
        "                        'sentiment': str(sentiment),\n",
        "                        'favorites': int(favorites),\n",
        "                        'retweets': int(retweets)\n",
        "                            })\n",
        "    # Turn list into pandas dataframe\n",
        "    raw_df = pd.DataFrame(my_list, columns = \n",
        "                              ['text','username', 'datetime', 'sentiment',\n",
        "                            'followers', 'favorites','retweets'])"
      ],
      "execution_count": 1,
      "outputs": [
        {
          "output_type": "stream",
          "text": [
            "Go to this URL in a browser: https://accounts.google.com/o/oauth2/auth?client_id=947318989803-6bn6qk8qdgf4n4g3pfee6491hc0brc4i.apps.googleusercontent.com&redirect_uri=urn%3aietf%3awg%3aoauth%3a2.0%3aoob&response_type=code&scope=email%20https%3a%2f%2fwww.googleapis.com%2fauth%2fdocs.test%20https%3a%2f%2fwww.googleapis.com%2fauth%2fdrive%20https%3a%2f%2fwww.googleapis.com%2fauth%2fdrive.photos.readonly%20https%3a%2f%2fwww.googleapis.com%2fauth%2fpeopleapi.readonly\n",
            "\n",
            "Enter your authorization code:\n",
            "··········\n",
            "Mounted at /content/drive\n"
          ],
          "name": "stdout"
        }
      ]
    },
    {
      "cell_type": "markdown",
      "metadata": {
        "id": "E3cvCr19hMiK",
        "colab_type": "text"
      },
      "source": [
        "## **Descriptives**"
      ]
    },
    {
      "cell_type": "code",
      "metadata": {
        "id": "Ntdl40kD4Jlm",
        "colab_type": "code",
        "outputId": "e1b71a48-b600-488c-ea28-1796aaa97a97",
        "colab": {
          "base_uri": "https://localhost:8080/",
          "height": 204
        }
      },
      "source": [
        "raw_df.head()"
      ],
      "execution_count": 2,
      "outputs": [
        {
          "output_type": "execute_result",
          "data": {
            "text/html": [
              "<div>\n",
              "<style scoped>\n",
              "    .dataframe tbody tr th:only-of-type {\n",
              "        vertical-align: middle;\n",
              "    }\n",
              "\n",
              "    .dataframe tbody tr th {\n",
              "        vertical-align: top;\n",
              "    }\n",
              "\n",
              "    .dataframe thead th {\n",
              "        text-align: right;\n",
              "    }\n",
              "</style>\n",
              "<table border=\"1\" class=\"dataframe\">\n",
              "  <thead>\n",
              "    <tr style=\"text-align: right;\">\n",
              "      <th></th>\n",
              "      <th>text</th>\n",
              "      <th>username</th>\n",
              "      <th>datetime</th>\n",
              "      <th>sentiment</th>\n",
              "      <th>followers</th>\n",
              "      <th>favorites</th>\n",
              "      <th>retweets</th>\n",
              "    </tr>\n",
              "  </thead>\n",
              "  <tbody>\n",
              "    <tr>\n",
              "      <th>0</th>\n",
              "      <td>Elon Musk asks all job candidates this one que...</td>\n",
              "      <td>thehrfieldguide</td>\n",
              "      <td>2020-02-27T14:30:03</td>\n",
              "      <td>neg</td>\n",
              "      <td>1995</td>\n",
              "      <td>0</td>\n",
              "      <td>0</td>\n",
              "    </tr>\n",
              "    <tr>\n",
              "      <th>1</th>\n",
              "      <td>Elon Musk asks all job candidates this one que...</td>\n",
              "      <td>ChandaChacon</td>\n",
              "      <td>2020-02-27T14:27:33</td>\n",
              "      <td>pos</td>\n",
              "      <td>2052</td>\n",
              "      <td>0</td>\n",
              "      <td>0</td>\n",
              "    </tr>\n",
              "    <tr>\n",
              "      <th>2</th>\n",
              "      <td>Important: the new moon is the size of a car, ...</td>\n",
              "      <td>paracatgames</td>\n",
              "      <td>2020-02-27T14:27:11</td>\n",
              "      <td>neg</td>\n",
              "      <td>863</td>\n",
              "      <td>0</td>\n",
              "      <td>0</td>\n",
              "    </tr>\n",
              "    <tr>\n",
              "      <th>3</th>\n",
              "      <td>Elon Musk still OK to claim to sell \"Full Self...</td>\n",
              "      <td>PhenomenalPoto</td>\n",
              "      <td>2020-02-27T14:27:09</td>\n",
              "      <td>neg</td>\n",
              "      <td>1148</td>\n",
              "      <td>5</td>\n",
              "      <td>0</td>\n",
              "    </tr>\n",
              "    <tr>\n",
              "      <th>4</th>\n",
              "      <td>Envelope-pushing visionary Elon Musk spills th...</td>\n",
              "      <td>ElonAnnounces</td>\n",
              "      <td>2020-02-27T14:23:25</td>\n",
              "      <td>pos</td>\n",
              "      <td>107</td>\n",
              "      <td>0</td>\n",
              "      <td>0</td>\n",
              "    </tr>\n",
              "  </tbody>\n",
              "</table>\n",
              "</div>"
            ],
            "text/plain": [
              "                                                text  ... retweets\n",
              "0  Elon Musk asks all job candidates this one que...  ...        0\n",
              "1  Elon Musk asks all job candidates this one que...  ...        0\n",
              "2  Important: the new moon is the size of a car, ...  ...        0\n",
              "3  Elon Musk still OK to claim to sell \"Full Self...  ...        0\n",
              "4  Envelope-pushing visionary Elon Musk spills th...  ...        0\n",
              "\n",
              "[5 rows x 7 columns]"
            ]
          },
          "metadata": {
            "tags": []
          },
          "execution_count": 2
        }
      ]
    },
    {
      "cell_type": "code",
      "metadata": {
        "id": "ejZWf2PwiFr_",
        "colab_type": "code",
        "outputId": "74282a39-892f-479d-db7f-190a915d4f30",
        "colab": {
          "base_uri": "https://localhost:8080/",
          "height": 221
        }
      },
      "source": [
        "raw_df.info()"
      ],
      "execution_count": 3,
      "outputs": [
        {
          "output_type": "stream",
          "text": [
            "<class 'pandas.core.frame.DataFrame'>\n",
            "RangeIndex: 4593 entries, 0 to 4592\n",
            "Data columns (total 7 columns):\n",
            "text         4593 non-null object\n",
            "username     4593 non-null object\n",
            "datetime     4593 non-null object\n",
            "sentiment    4593 non-null object\n",
            "followers    4593 non-null int64\n",
            "favorites    4593 non-null int64\n",
            "retweets     4593 non-null int64\n",
            "dtypes: int64(3), object(4)\n",
            "memory usage: 251.3+ KB\n"
          ],
          "name": "stdout"
        }
      ]
    },
    {
      "cell_type": "code",
      "metadata": {
        "id": "zPCKEus1iSUD",
        "colab_type": "code",
        "outputId": "60ca7e9a-e536-4de5-b0c8-8ce48b9106c5",
        "colab": {
          "base_uri": "https://localhost:8080/",
          "height": 142
        }
      },
      "source": [
        "raw_df.describe().transpose()"
      ],
      "execution_count": 4,
      "outputs": [
        {
          "output_type": "execute_result",
          "data": {
            "text/html": [
              "<div>\n",
              "<style scoped>\n",
              "    .dataframe tbody tr th:only-of-type {\n",
              "        vertical-align: middle;\n",
              "    }\n",
              "\n",
              "    .dataframe tbody tr th {\n",
              "        vertical-align: top;\n",
              "    }\n",
              "\n",
              "    .dataframe thead th {\n",
              "        text-align: right;\n",
              "    }\n",
              "</style>\n",
              "<table border=\"1\" class=\"dataframe\">\n",
              "  <thead>\n",
              "    <tr style=\"text-align: right;\">\n",
              "      <th></th>\n",
              "      <th>count</th>\n",
              "      <th>mean</th>\n",
              "      <th>std</th>\n",
              "      <th>min</th>\n",
              "      <th>25%</th>\n",
              "      <th>50%</th>\n",
              "      <th>75%</th>\n",
              "      <th>max</th>\n",
              "    </tr>\n",
              "  </thead>\n",
              "  <tbody>\n",
              "    <tr>\n",
              "      <th>followers</th>\n",
              "      <td>4593.0</td>\n",
              "      <td>61029.648596</td>\n",
              "      <td>675217.304072</td>\n",
              "      <td>0.0</td>\n",
              "      <td>96.0</td>\n",
              "      <td>411.0</td>\n",
              "      <td>1918.0</td>\n",
              "      <td>21260053.0</td>\n",
              "    </tr>\n",
              "    <tr>\n",
              "      <th>favorites</th>\n",
              "      <td>4593.0</td>\n",
              "      <td>8.621380</td>\n",
              "      <td>96.589333</td>\n",
              "      <td>0.0</td>\n",
              "      <td>0.0</td>\n",
              "      <td>0.0</td>\n",
              "      <td>2.0</td>\n",
              "      <td>3716.0</td>\n",
              "    </tr>\n",
              "    <tr>\n",
              "      <th>retweets</th>\n",
              "      <td>4593.0</td>\n",
              "      <td>1.662748</td>\n",
              "      <td>23.010207</td>\n",
              "      <td>0.0</td>\n",
              "      <td>0.0</td>\n",
              "      <td>0.0</td>\n",
              "      <td>0.0</td>\n",
              "      <td>1076.0</td>\n",
              "    </tr>\n",
              "  </tbody>\n",
              "</table>\n",
              "</div>"
            ],
            "text/plain": [
              "            count          mean            std  ...    50%     75%         max\n",
              "followers  4593.0  61029.648596  675217.304072  ...  411.0  1918.0  21260053.0\n",
              "favorites  4593.0      8.621380      96.589333  ...    0.0     2.0      3716.0\n",
              "retweets   4593.0      1.662748      23.010207  ...    0.0     0.0      1076.0\n",
              "\n",
              "[3 rows x 8 columns]"
            ]
          },
          "metadata": {
            "tags": []
          },
          "execution_count": 4
        }
      ]
    },
    {
      "cell_type": "markdown",
      "metadata": {
        "id": "wrHqQuyOidD2",
        "colab_type": "text"
      },
      "source": [
        "## **Data Cleaning**"
      ]
    },
    {
      "cell_type": "code",
      "metadata": {
        "id": "fPIjMh6Biay-",
        "colab_type": "code",
        "outputId": "62f657cd-70ec-4ea2-832b-369bf1b22292",
        "colab": {
          "base_uri": "https://localhost:8080/",
          "height": 221
        }
      },
      "source": [
        "raw_df['datetime'] =  pd.to_datetime(raw_df['datetime'], format='%Y-%m-%dT%H:%M:%S')\n",
        "raw_df.info()"
      ],
      "execution_count": 5,
      "outputs": [
        {
          "output_type": "stream",
          "text": [
            "<class 'pandas.core.frame.DataFrame'>\n",
            "RangeIndex: 4593 entries, 0 to 4592\n",
            "Data columns (total 7 columns):\n",
            "text         4593 non-null object\n",
            "username     4593 non-null object\n",
            "datetime     4593 non-null datetime64[ns]\n",
            "sentiment    4593 non-null object\n",
            "followers    4593 non-null int64\n",
            "favorites    4593 non-null int64\n",
            "retweets     4593 non-null int64\n",
            "dtypes: datetime64[ns](1), int64(3), object(3)\n",
            "memory usage: 251.3+ KB\n"
          ],
          "name": "stdout"
        }
      ]
    },
    {
      "cell_type": "code",
      "metadata": {
        "id": "oFarc9xWo_Dp",
        "colab_type": "code",
        "colab": {}
      },
      "source": [
        "df = raw_df"
      ],
      "execution_count": 0,
      "outputs": []
    },
    {
      "cell_type": "markdown",
      "metadata": {
        "id": "sHqRAq3elzws",
        "colab_type": "text"
      },
      "source": [
        "## **Exploration**"
      ]
    },
    {
      "cell_type": "code",
      "metadata": {
        "id": "z7yD692zlzI2",
        "colab_type": "code",
        "outputId": "432e91e1-fa33-4a9a-a9a2-66e077423c14",
        "colab": {
          "base_uri": "https://localhost:8080/",
          "height": 68
        }
      },
      "source": [
        "df['sentiment'].value_counts()"
      ],
      "execution_count": 7,
      "outputs": [
        {
          "output_type": "execute_result",
          "data": {
            "text/plain": [
              "neg    3130\n",
              "pos    1463\n",
              "Name: sentiment, dtype: int64"
            ]
          },
          "metadata": {
            "tags": []
          },
          "execution_count": 7
        }
      ]
    },
    {
      "cell_type": "code",
      "metadata": {
        "id": "Y5ZSeERioU9F",
        "colab_type": "code",
        "outputId": "dd85c7e2-019f-46f2-e98a-9ce6d6934fa9",
        "colab": {
          "base_uri": "https://localhost:8080/",
          "height": 296
        }
      },
      "source": [
        "sns.countplot(x = 'sentiment', data = df)"
      ],
      "execution_count": 8,
      "outputs": [
        {
          "output_type": "execute_result",
          "data": {
            "text/plain": [
              "<matplotlib.axes._subplots.AxesSubplot at 0x7f4cca332358>"
            ]
          },
          "metadata": {
            "tags": []
          },
          "execution_count": 8
        },
        {
          "output_type": "display_data",
          "data": {
            "image/png": "[encoded data removed]",
            "text/plain": [
              "<Figure size 432x288 with 1 Axes>"
            ]
          },
          "metadata": {
            "tags": []
          }
        }
      ]
    },
    {
      "cell_type": "markdown",
      "metadata": {
        "id": "lvcPKnrmHXsA",
        "colab_type": "text"
      },
      "source": [
        "**Observation** - This data seems odd. I feel like Elon Musk's public perception would be better than this. Let's check the negative tweets. I plan to try a different sentiment analysis model to compare to the Naive Bayes Mehtod from TextBlob."
      ]
    },
    {
      "cell_type": "code",
      "metadata": {
        "id": "V1V9bGlJIONH",
        "colab_type": "code",
        "outputId": "dbe1ae48-212f-4693-9f65-394e1cabf641",
        "colab": {
          "base_uri": "https://localhost:8080/",
          "height": 204
        }
      },
      "source": [
        "# Create separate dataframe \n",
        "df_negative = df[df['sentiment'] == 'neg']\n",
        "df_positive = df[df['sentiment'] == 'pos']\n",
        "df_positive.head()"
      ],
      "execution_count": 9,
      "outputs": [
        {
          "output_type": "execute_result",
          "data": {
            "text/html": [
              "<div>\n",
              "<style scoped>\n",
              "    .dataframe tbody tr th:only-of-type {\n",
              "        vertical-align: middle;\n",
              "    }\n",
              "\n",
              "    .dataframe tbody tr th {\n",
              "        vertical-align: top;\n",
              "    }\n",
              "\n",
              "    .dataframe thead th {\n",
              "        text-align: right;\n",
              "    }\n",
              "</style>\n",
              "<table border=\"1\" class=\"dataframe\">\n",
              "  <thead>\n",
              "    <tr style=\"text-align: right;\">\n",
              "      <th></th>\n",
              "      <th>text</th>\n",
              "      <th>username</th>\n",
              "      <th>datetime</th>\n",
              "      <th>sentiment</th>\n",
              "      <th>followers</th>\n",
              "      <th>favorites</th>\n",
              "      <th>retweets</th>\n",
              "    </tr>\n",
              "  </thead>\n",
              "  <tbody>\n",
              "    <tr>\n",
              "      <th>1</th>\n",
              "      <td>Elon Musk asks all job candidates this one que...</td>\n",
              "      <td>ChandaChacon</td>\n",
              "      <td>2020-02-27 14:27:33</td>\n",
              "      <td>pos</td>\n",
              "      <td>2052</td>\n",
              "      <td>0</td>\n",
              "      <td>0</td>\n",
              "    </tr>\n",
              "    <tr>\n",
              "      <th>4</th>\n",
              "      <td>Envelope-pushing visionary Elon Musk spills th...</td>\n",
              "      <td>ElonAnnounces</td>\n",
              "      <td>2020-02-27 14:23:25</td>\n",
              "      <td>pos</td>\n",
              "      <td>107</td>\n",
              "      <td>0</td>\n",
              "      <td>0</td>\n",
              "    </tr>\n",
              "    <tr>\n",
              "      <th>9</th>\n",
              "      <td>Suggested gishwhes Item (VIDEO): Create a conv...</td>\n",
              "      <td>gishsuggest</td>\n",
              "      <td>2020-02-27 14:18:36</td>\n",
              "      <td>pos</td>\n",
              "      <td>103</td>\n",
              "      <td>0</td>\n",
              "      <td>0</td>\n",
              "    </tr>\n",
              "    <tr>\n",
              "      <th>14</th>\n",
              "      <td>Amazon Botched Its HQ2 Search Because Jeff Bez...</td>\n",
              "      <td>247natw</td>\n",
              "      <td>2020-02-27 14:08:09</td>\n",
              "      <td>pos</td>\n",
              "      <td>149</td>\n",
              "      <td>0</td>\n",
              "      <td>0</td>\n",
              "    </tr>\n",
              "    <tr>\n",
              "      <th>18</th>\n",
              "      <td>Elon Musk is a genius due to his baldness reme...</td>\n",
              "      <td>heroicalx</td>\n",
              "      <td>2020-02-27 14:00:44</td>\n",
              "      <td>pos</td>\n",
              "      <td>2</td>\n",
              "      <td>0</td>\n",
              "      <td>0</td>\n",
              "    </tr>\n",
              "  </tbody>\n",
              "</table>\n",
              "</div>"
            ],
            "text/plain": [
              "                                                 text  ... retweets\n",
              "1   Elon Musk asks all job candidates this one que...  ...        0\n",
              "4   Envelope-pushing visionary Elon Musk spills th...  ...        0\n",
              "9   Suggested gishwhes Item (VIDEO): Create a conv...  ...        0\n",
              "14  Amazon Botched Its HQ2 Search Because Jeff Bez...  ...        0\n",
              "18  Elon Musk is a genius due to his baldness reme...  ...        0\n",
              "\n",
              "[5 rows x 7 columns]"
            ]
          },
          "metadata": {
            "tags": []
          },
          "execution_count": 9
        }
      ]
    },
    {
      "cell_type": "code",
      "metadata": {
        "id": "IFKApld7I-N_",
        "colab_type": "code",
        "outputId": "b2d8c892-2109-45a1-fc49-6cec533db3eb",
        "colab": {
          "base_uri": "https://localhost:8080/",
          "height": 139
        }
      },
      "source": [
        "# Make so text is not truncated\n",
        "pd.set_option('display.max_colwidth', -1)\n",
        "df_positive['text'].head()"
      ],
      "execution_count": 10,
      "outputs": [
        {
          "output_type": "execute_result",
          "data": {
            "text/plain": [
              "1     Elon Musk asks all job candidates this one question https://t.co/fm5PQpQXPs https://t.co/Dks4k0lTQo                                                                                                                                                                                   \n",
              "4     Envelope-pushing visionary Elon Musk spills the beans on something exciting: 4D drones                                                                                                                                                                                                \n",
              "9     Suggested gishwhes Item (VIDEO): Create a convincing tribute to Elon Musk using a pair of shoes. 24 POINTS                                                                                                                                                                            \n",
              "14    Amazon Botched Its HQ2 Search Because Jeff Bezos Was Jealous of Elon Musk. It’s a Lesson for Every Leader Amazon's https://t.co/DAAC0NM0yM                                                                                                                                            \n",
              "18    Elon Musk is a genius due to his baldness remedy.\\n\\nThese apparels and the popular kids popular entertainment choices of the US from Disney Movies to Free from Harm are all over 60's as big as ever.\\nAnd baby boomers are still drinking beer and strolling in pajamas. @skisingez\n",
              "Name: text, dtype: object"
            ]
          },
          "metadata": {
            "tags": []
          },
          "execution_count": 10
        }
      ]
    },
    {
      "cell_type": "code",
      "metadata": {
        "id": "SmumpP5eJJXB",
        "colab_type": "code",
        "outputId": "73311c17-3571-4134-c937-8001dffb3a6a",
        "colab": {
          "base_uri": "https://localhost:8080/",
          "height": 119
        }
      },
      "source": [
        "df_negative['text'].head()"
      ],
      "execution_count": 11,
      "outputs": [
        {
          "output_type": "execute_result",
          "data": {
            "text/plain": [
              "0    Elon Musk asks all job candidates this one question https://t.co/dt4iUuvPv1 via @FastCoLead https://t.co/JepKLElPdT                                  \n",
              "2    Important: the new moon is the size of a car, but is not in fact the literal car that Elon Musk left orbiting our planet                             \n",
              "3    Elon Musk still OK to claim to sell \"Full Self Driving\" for the last 4 years\\n\\nGood job Jay Clayton! You got them this time! https://t.co/BfAxgPJ7Ph\n",
              "5    why did i think that was elon musk at first https://t.co/DTE7ofObwf                                                                                  \n",
              "6    Elon went \"CRAZYCROUS\" mode Grimes And Elon Musk Will Raise Baby As ‘They’ Until They Decide Their Gender Identity\\n\\nhttps://t.co/VCbrKzq7np        \n",
              "Name: text, dtype: object"
            ]
          },
          "metadata": {
            "tags": []
          },
          "execution_count": 11
        }
      ]
    },
    {
      "cell_type": "markdown",
      "metadata": {
        "id": "nnRfrMZbJvck",
        "colab_type": "text"
      },
      "source": [
        "**Observation** - One problem with this model is that it will classify every tweet as negative or positive. Therefore, neutral tweets will be treated the same as very strong tweets. Let's try a different model"
      ]
    },
    {
      "cell_type": "code",
      "metadata": {
        "id": "KzAJ-873TRVh",
        "colab_type": "code",
        "colab": {}
      },
      "source": [
        "# Add positive and negative sentences to list to be trained\n",
        "all_data = [] # Initialize list\n",
        "with open(\"drive/My Drive/positive.txt\",\"r\") as f:\n",
        "    for line in f.read().split('\\n'):\n",
        "        classify = (line, 'pos')\n",
        "        all_data.append(classify)\n",
        "with open(\"drive/My Drive/negative.txt\",\"r\") as f:\n",
        "    for line in f.read().split('\\n'):\n",
        "        classify = (line, 'neg')\n",
        "        all_data.append(classify)"
      ],
      "execution_count": 0,
      "outputs": []
    },
    {
      "cell_type": "code",
      "metadata": {
        "id": "E6_M1JQrVzIl",
        "colab_type": "code",
        "outputId": "15002046-25b2-42a1-89cc-ec6fc5435b17",
        "colab": {
          "base_uri": "https://localhost:8080/",
          "height": 34
        }
      },
      "source": [
        "print(len(all_data))"
      ],
      "execution_count": 13,
      "outputs": [
        {
          "output_type": "stream",
          "text": [
            "10662\n"
          ],
          "name": "stdout"
        }
      ]
    },
    {
      "cell_type": "code",
      "metadata": {
        "id": "Ge4yAdzQWA5V",
        "colab_type": "code",
        "colab": {}
      },
      "source": [
        "# Random order of data\n",
        "import random\n",
        "random.shuffle(all_data)"
      ],
      "execution_count": 0,
      "outputs": []
    },
    {
      "cell_type": "code",
      "metadata": {
        "id": "0TyKN90rWuXX",
        "colab_type": "code",
        "colab": {}
      },
      "source": [
        "# Get training and testing data sets\n",
        "training_data = all_data[:4000]\n",
        "testing_data = all_data[4000:5000]"
      ],
      "execution_count": 0,
      "outputs": []
    },
    {
      "cell_type": "code",
      "metadata": {
        "id": "N0-YZgrJTpUp",
        "colab_type": "code",
        "outputId": "9f0ca5b9-72f1-49b9-b606-542badd4578c",
        "colab": {
          "base_uri": "https://localhost:8080/",
          "height": 306
        }
      },
      "source": [
        "# Create Naive Bayes NLP Sentiment model\n",
        "!pip install textblob\n",
        "!python -m textblob.download_corpora\n",
        "import textblob\n",
        "from textblob.classifiers import NaiveBayesClassifier\n",
        "classifier = NaiveBayesClassifier(training_data)"
      ],
      "execution_count": 16,
      "outputs": [
        {
          "output_type": "stream",
          "text": [
            "Requirement already satisfied: textblob in /usr/local/lib/python3.6/dist-packages (0.15.3)\n",
            "Requirement already satisfied: nltk>=3.1 in /usr/local/lib/python3.6/dist-packages (from textblob) (3.2.5)\n",
            "Requirement already satisfied: six in /usr/local/lib/python3.6/dist-packages (from nltk>=3.1->textblob) (1.12.0)\n",
            "[nltk_data] Downloading package brown to /root/nltk_data...\n",
            "[nltk_data]   Unzipping corpora/brown.zip.\n",
            "[nltk_data] Downloading package punkt to /root/nltk_data...\n",
            "[nltk_data]   Unzipping tokenizers/punkt.zip.\n",
            "[nltk_data] Downloading package wordnet to /root/nltk_data...\n",
            "[nltk_data]   Unzipping corpora/wordnet.zip.\n",
            "[nltk_data] Downloading package averaged_perceptron_tagger to\n",
            "[nltk_data]     /root/nltk_data...\n",
            "[nltk_data]   Unzipping taggers/averaged_perceptron_tagger.zip.\n",
            "[nltk_data] Downloading package conll2000 to /root/nltk_data...\n",
            "[nltk_data]   Unzipping corpora/conll2000.zip.\n",
            "[nltk_data] Downloading package movie_reviews to /root/nltk_data...\n",
            "[nltk_data]   Unzipping corpora/movie_reviews.zip.\n",
            "Finished.\n"
          ],
          "name": "stdout"
        }
      ]
    },
    {
      "cell_type": "code",
      "metadata": {
        "id": "5h2ZLFi-W9zm",
        "colab_type": "code",
        "colab": {
          "base_uri": "https://localhost:8080/",
          "height": 221
        },
        "outputId": "204cdc87-8a5c-4713-8551-4dc3e537a7cf"
      },
      "source": [
        "print (classifier.accuracy(testing_data))\n",
        "classifier.show_informative_features(10)"
      ],
      "execution_count": 18,
      "outputs": [
        {
          "output_type": "stream",
          "text": [
            "0.743\n",
            "Most Informative Features\n",
            "          contains(dull) = True              neg : pos    =     16.9 : 1.0\n",
            "         contains(title) = True              neg : pos    =     12.9 : 1.0\n",
            "     contains(wonderful) = True              pos : neg    =     11.0 : 1.0\n",
            "         contains(loses) = True              neg : pos    =      9.6 : 1.0\n",
            "          contains(gags) = True              neg : pos    =      9.6 : 1.0\n",
            "        contains(stupid) = True              neg : pos    =      9.6 : 1.0\n",
            "        contains(cinema) = True              pos : neg    =      9.6 : 1.0\n",
            " contains(coming-of-age) = True              pos : neg    =      9.0 : 1.0\n",
            "    contains(thoughtful) = True              pos : neg    =      9.0 : 1.0\n",
            "          contains(soap) = True              neg : pos    =      9.0 : 1.0\n"
          ],
          "name": "stdout"
        }
      ]
    }
  ]
}